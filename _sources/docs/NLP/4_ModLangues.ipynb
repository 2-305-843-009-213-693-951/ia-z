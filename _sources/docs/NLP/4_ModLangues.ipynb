{
 "cells": [
  {
   "cell_type": "markdown",
   "id": "abcaa4e5",
   "metadata": {},
   "source": [
    "# Modèles de langues\n",
    "\n",
    "## Sommaire\n",
    "* [Modèles unigram/bigram/ngram](#modeles-unigram-bigram-ngram)\n",
    "* [Perplexité](#perplexite)\n",
    "* [Mise en pratique](#mise-en-pratique)\n",
    "   * [Classification de texte](#classification-de-texte)\n",
    "   * [Génération de texte](#generation-de-texte)\n",
    "\n",
    "## Modèles unigram/bigram/ngram\n",
    "\n",
    "## Perplexité\n",
    "\n",
    "## Mise en pratique\n",
    "\n",
    "### Classification de texte\n",
    "\n",
    "### Génération de texte"
   ]
  },
  {
   "cell_type": "code",
   "execution_count": null,
   "id": "286dc737",
   "metadata": {},
   "outputs": [],
   "source": []
  }
 ],
 "metadata": {
  "kernelspec": {
   "display_name": "Python 3 (ipykernel)",
   "language": "python",
   "name": "python3"
  },
  "language_info": {
   "codemirror_mode": {
    "name": "ipython",
    "version": 3
   },
   "file_extension": ".py",
   "mimetype": "text/x-python",
   "name": "python",
   "nbconvert_exporter": "python",
   "pygments_lexer": "ipython3",
   "version": "3.9.7"
  }
 },
 "nbformat": 4,
 "nbformat_minor": 5
}
