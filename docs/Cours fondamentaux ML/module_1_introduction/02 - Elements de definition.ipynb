{
 "cells": [
  {
   "cell_type": "code",
   "execution_count": 5,
   "id": "03d861a7-8418-4e17-8d44-1e80e3ae3e68",
   "metadata": {
    "tags": [
     "remove-input"
    ]
   },
   "outputs": [],
   "source": [
    "import os\n",
    "\n",
    "import numpy as np\n",
    "import plotly.io as pio\n",
    "import plotly.graph_objects as go\n",
    "from plotly.io._base_renderers import IFrameRenderer\n",
    "\n",
    "\n",
    "class CumulIFrameRenderer(IFrameRenderer):\n",
    "    def build_filename(self):\n",
    "        max_number = 0\n",
    "\n",
    "        if not os.path.exists(self.html_directory):\n",
    "            os.mkdir(self.html_directory)\n",
    "\n",
    "        for file in os.listdir(self.html_directory):\n",
    "            number = file.split('_')[1]\n",
    "            number = number.split('.')[0]\n",
    "            number = int(number)\n",
    "            max_number = max(max_number, number)\n",
    "\n",
    "        return os.path.join(self.html_directory, f'figure_{max_number+1}.html')\n",
    "\n",
    "\n",
    "pio.renderers['iframe'] = CumulIFrameRenderer()"
   ]
  },
  {
   "cell_type": "markdown",
   "id": "1b034624-27c5-4d5d-9701-dc74e05b72a1",
   "metadata": {},
   "source": [
    "# Éléments de définition\n",
    "À l’intersection des statistiques et de l’informatique, le machine learning se préoccupe de la modélisation des données.\n",
    "Les grands principes de ce domaine ont émergé des statistiques fréquentistes et bayésiennes, de l’intelligence artificielle ou encore du traitement du signal.\n",
    "Le machine learning est la science de l’apprentissage automatique d’une fonction prédictive à partir d’un jeu d’observations de données étiquetées ou non.\n",
    "\n",
    "Ce chapitre se veut une **introduction aux concepts et aux premières définitions qui fondent le machine learning**, et en propose plusieurs approches, décrites et illustrées."
   ]
  },
  {
   "cell_type": "markdown",
   "id": "eac8bdd3-93f8-4c8c-83ce-80ac448a4859",
   "metadata": {},
   "source": [
    "## Donnée, jeu de données et caractéristiques\n",
    "Une `donnée` est une quantité ou une observation mesurable.\n",
    "Cela peut être la taille d'un individu, une image, du texte... À peu près n'importe quoi !\n",
    "\n",
    "On peut récolter plusieurs données et les regrouper dans un jeu de données afin d'en étudier le fonctionnement d'un phénomène que l'on souhaiterai caractériser.\n",
    "Par exemple, on pourrait mesurer la taille des adultes en France et regrouper ces mesures dans un `jeu de données` (*dataset* en anglais).\n",
    "On dit alors que les données sont des `exemples` du dataset (ou *sample* en anglais).\n",
    "\n",
    "Traditionnellement, on visualise un dataset à l'aide d'un tableau où les lignes sont les différents exemples et les colonnes sont les différentes mesures récupérées sur chaque exemple.\n",
    "\n",
    "| Individu ID \t| Taille \t| Couleur des cheveux \t| Couleur des yeux \t|\n",
    "|-------------\t|--------\t|---------------------\t|------------------\t|\n",
    "| 1           \t| 1.75   \t| Brun                \t| Marron           \t|\n",
    "| 2           \t| 1.92   \t| Blond               \t| Bleu             \t|\n",
    "| ...         \t|        \t|                     \t|                  \t|\n",
    "\n",
    "Comme vous le voyez, il est possible de récolter plusieurs données pour un même individu.\n",
    "Lorsqu'un exemple a plusieurs données attribuées, on parle alors de ses données comme de ses `caractéristiques` (*features* en anglais).\n",
    "On dit que les exemples sont de dimension 3 dans notre cas, car ils ont 3 caractéristiques.\n",
    "Dans le cas d'une image de 64x64 pixels, cette image peut être considéré comme un exemple avec 4096 caractéristiques !"
   ]
  },
  {
   "cell_type": "markdown",
   "id": "fb59fb86-bc35-4056-b48e-a58093997f21",
   "metadata": {},
   "source": [
    "## Le jeu de données : la source de connaissances\n",
    "En machine learning, tout part d'un jeu de données.\n",
    "Les données sont la clef de la connaissance, elles sont une image du fonctionnement du monde au moment où elles ont été récoltées.\n",
    "Voici quelques petits exemples pour illustrer l'utilité des données :\n",
    "* Mesurer la trajectoire d'un lancer de balle dans l'espace permet de mieux comprendre le fonctionnement de la gravité.\n",
    "* Lire l'ensemble des livres du XVIIe siècle permet de mieux comprendre comment s'exprimaient les populations de cette époque.\n",
    "* Comparer les achats de tous les clients d'un site marchand permet de mieux sélectionner les items à recommander aux futurs clients.\n",
    "\n",
    "A travers les données, on peut déceler des comportements statistiques intéressants et en tirer de l'information.\n",
    "**L'objectif du machine learning est d'extraire les connaissances contenues dans un jeu de données et de les synthétiser au sein d'un modèle.**\n",
    "\n",
    "Cependant, attention à ne pas tirer de conclusions hatives à partir d'un jeu de données.\n",
    "Les données ne sont pas neutres par essence.\n",
    "La façon dont elles ont été récoltées, le contexte, et des données manquantes externes peuvent totalement altérer l'information que vous avez extrait d'un jeu de données.\n",
    "Ainsi, des biais statistiques peuvent être insérés et pointer vers des conclusions dramatiquement fausses.\n",
    "Par exemple, on pourrait se dire que le chocolat rend plus intelligent car la plupart des personnes ayant reçu un prix nobel en [consomment](https://www.youtube.com/watch?v=z_cACapt3Hc).\n",
    "Cependant, c'est oublié le facteur important ici : les pays les plus riches sont à la fois ceux qui investissent le plus dans la recherche et aussi ceux qui ont le plus accès au chocolat."
   ]
  },
  {
   "cell_type": "markdown",
   "id": "ae73a263-f03a-4166-b4d7-2685e9a85dc4",
   "metadata": {},
   "source": [
    "## Le modèle : la synthèse des connaissances\n",
    "Une fois les données récoltées, on souhaite généralement traduire les informations qui nous intéressent en un `modèle`.\n",
    "**Le modèle synthétise les connaissances contenues dans le jeu de données.**\n",
    "Il exprime mathématiquement les relations du dataset, sous forme de fonction.\n",
    "Pour revenir sur les exemples précédents, un modèle :\n",
    "* Caractérise l'évolution de la position d'une balle après son lancer.\n",
    "* Capture la distribution de probabilité que suivent les mots de la langue française du XVIIe.\n",
    "* Regroupe les items d'un site marchand qui sont achetés par les mêmes catégories de personnes.\n",
    "\n",
    "Le modèle permet d'expliquer les données.\n",
    "Il n'a pas à être parfait *(et il ne l'est jamais en pratique)*, mais on espère qu'il sera suffisamment bon pour mieux comprendre les relations qu'il caractérise ou simplement pour nous être utile pour la tâche souhaitée."
   ]
  },
  {
   "cell_type": "markdown",
   "id": "77070bec-ae66-4ba4-93e2-fc1912718775",
   "metadata": {},
   "source": [
    "## Apprentissage automatique\n",
    "On sait que le but du ML est de produire un modèle qui capture les relations d'un dataset.\n",
    "Pour y arriver, on dit que l'on `entraîne` un modèle sur un jeu de données, à l'aide d'un `algorithme d'apprentissage automatique` (*Machine Learning algorithm*).\n",
    "\n",
    "Le domaine du ML regroupe beaucoup de modèles et d'algorithmes différents dans le but de couvrir un maximum de datasets possibles.\n",
    "Connaître les cas d'applications de chaque modèle et algorithme d'apprentissage est un bon moyen pour rapidement déployer des solutions à un problème donné.\n",
    "\n",
    "Afin de bien apprendre, un modèle a besoin de beaucoup de données.\n",
    "C'est pourquoi il est courant de rencontrer des modèles entraînés à partir de millions d'images ou de documents.\n",
    "Plus un dataset contient d'exemples divers et plus il sera possible de modéliser des relations complexes entre nos données."
   ]
  },
  {
   "cell_type": "markdown",
   "id": "8b4e0a18-6db8-40ba-a11b-080b4831a078",
   "metadata": {
    "tags": []
   },
   "source": [
    "## Tâches classiques résolues avec le ML\n",
    "Nous pouvons maintenant nous intéresser aux différentes tâches classiques résolues à l'aide du ML.\n",
    "On va uniquement regarder les grandes familles de problèmes et donner quelques exemples pour chacune d'entre elles.\n",
    "\n",
    "### Classification\n",
    "Le but d'une tâche de classification est de **déterminer la classe** des exemples d'un dataset (on parle de *variable qualitative*).\n",
    "Par exemple, on souhaite faire un modèle qui est capable de prédire si un mail est frauduleux ou pas.\n",
    "Dans ce cas, nous aurons besoin d'un ensemble de mails avec des informations sur le contenu du mail ainsi que sur son envoyeur et la classe du mail (« frauduleux » ou « non frauduleux »).\n",
    "Dans ce type d'exemples, on parle classification binaire car il y a uniquement deux classes.\n",
    "\n",
    "Il existe de nombreux types de tâches de classification que vous pouvez rencontrer dans l'apprentissage automatique et des approches spécialisées de la modélisation qui peuvent être utilisées pour chacune.\n",
    "Ces approches seront étudiées plus en détail à la suite du cours.\n",
    "\n",
    "### Régression\n",
    "Dans le domaine de l'apprentissage statistique, la régression cherche à **prédire une quantité** (on parle de *variable quantitative*).\n",
    "La régression s'articule autour d'algorithmes simples, qui sont souvent utilisés dans la finance, l'investissement et autres, et établit la relation entre une seule variable dépendante de plusieurs variables.\n",
    "Prédire le nombre de clics sur un lien ou prédire le rendement d’un plant de maïs sont des exemples de regression classiques.\n",
    "Le nombre à prédire peut être un nombre continu comme discret"
   ]
  },
  {
   "cell_type": "code",
   "execution_count": 6,
   "id": "b738e390-2c36-4882-ae46-de122c8996f6",
   "metadata": {
    "tags": [
     "remove-input"
    ]
   },
   "outputs": [
    {
     "data": {
      "text/html": [
       "<iframe\n",
       "    scrolling=\"no\"\n",
       "    width=\"100%\"\n",
       "    height=\"545px\"\n",
       "    src=\"iframe_figures/figure_1.html\"\n",
       "    frameborder=\"0\"\n",
       "    allowfullscreen\n",
       "></iframe>\n"
      ]
     },
     "metadata": {},
     "output_type": "display_data"
    }
   ],
   "source": [
    "import plotly.express as px\n",
    "import matplotlib.pyplot as plt\n",
    "from sklearn.linear_model import LinearRegression\n",
    "\n",
    "\n",
    "x = np.linspace(0, 10, 100)\n",
    "a = 1.5\n",
    "b = 0.3\n",
    "rng = np.random.default_rng(0)\n",
    "y = a * x + b + rng.standard_normal(len(x))\n",
    "X = x.reshape(-1, 1)\n",
    "\n",
    "model = LinearRegression()\n",
    "model.fit(X, y)\n",
    "\n",
    "a_learn = model.coef_[0]\n",
    "b_learn = model.intercept_\n",
    "\n",
    "y_pred = model.predict(X)\n",
    "\n",
    "fig = go.Figure()\n",
    "fig.add_trace(\n",
    "    go.Scatter(\n",
    "        x=x, y=y,\n",
    "        name=f'a={a:.2f}, b={b:.2f} | réel',\n",
    "        mode='markers'\n",
    "    )\n",
    ")\n",
    "fig.add_trace(\n",
    "    go.Scatter(\n",
    "        x=x, y=y_pred,\n",
    "        name=f'a={a_learn:.2f}, b={b_learn:.2f} | prédiction',\n",
    "        mode='lines')\n",
    ")\n",
    "fig.update_layout(\n",
    "    title=f\"Exemple d'une régression lineaire\",\n",
    "    xaxis_title=\"x\",\n",
    "    yaxis_title=\"y\",\n",
    ")\n",
    "fig.show('iframe')"
   ]
  },
  {
   "cell_type": "markdown",
   "id": "77eabc78-65c7-4016-93f5-dbaf399e8aa0",
   "metadata": {},
   "source": [
    "Le modèle de régression le plus connu est la de régression linéaire."
   ]
  },
  {
   "cell_type": "markdown",
   "id": "753ca290-b957-4ea0-9965-6efb04c60cfd",
   "metadata": {},
   "source": [
    "### Clustering\n",
    "Le problème d’apprentissage non supervisé le plus fréquent est le problème de partitionnement de données (en anglais *clustering*).\n",
    "C’est l’étape où l’on essaie de **séparer les données en groupes**.\n",
    "Par rapport à la classification, ici il n'y a pas de classes bien définies.\n",
    "Les groupes sont construits sur le tas, à partir des similarités entre les données."
   ]
  },
  {
   "cell_type": "code",
   "execution_count": null,
   "id": "598017bb-5be8-4ead-a41f-6c339da11e47",
   "metadata": {
    "tags": [
     "remove-input"
    ]
   },
   "outputs": [],
   "source": [
    "import plotly.express as px\n",
    "import matplotlib.pyplot as plt\n",
    "\n",
    "N = 1000\n",
    "fig = go.Figure()\n",
    "\n",
    "rng = np.random.default_rng(0)\n",
    "X = rng.normal(size=(N, 2), loc=-2)\n",
    "fig.add_trace(\n",
    "    go.Scatter(\n",
    "        x=X[:,0], y=X[:,1],\n",
    "        mode='markers',\n",
    "        name='Groupe 1',\n",
    "    )\n",
    ")\n",
    "\n",
    "X = rng.normal(size=(N, 2), loc=2)\n",
    "fig.add_trace(\n",
    "    go.Scatter(\n",
    "        x=X[:,0], y=X[:,1],\n",
    "        mode='markers',\n",
    "        name='Groupe 2',\n",
    "    )\n",
    ")\n",
    "\n",
    "fig.update_layout(\n",
    "    title=f\"Exemple d'un clustering avec deux groupes\",\n",
    "    xaxis_title=\"x1\",\n",
    "    yaxis_title=\"x2\",\n",
    ")\n",
    "fig['data'][0]['showlegend'] = True\n",
    "fig.show('iframe')"
   ]
  },
  {
   "cell_type": "markdown",
   "id": "1961d497-0445-4c9d-8f44-505cb27f7aec",
   "metadata": {
    "tags": []
   },
   "source": [
    "Le clustering permet d'identifier des groupes homogènes parmi une population donnée.\n",
    "\n",
    "### Association\n",
    "La recherche des règles d’association est une méthode dont le but est de **découvrir des relations ayant un intérêt entre deux ou plusieurs variables** stockées dans de très importantes bases de données.\n",
    "Les algorithmes d’association sont particulièrement adaptés pour explorer des bases de données volumineuses ou complexes.\n",
    "Par exemple, ils peuvent identifier la probabilité de co-occurrence d’éléments dans une collection de données.\n",
    "\n",
    "Quelques exemples:\n",
    "* Association entre alimentation et apparition de maladies.\n",
    "* Association entre génotype et phénotype.\n",
    "* Association entre activations de neurones et comportement.\n",
    "\n",
    "### Réduction de dimensions\n",
    "Un second cas d’apprentissage non supervisé concerne la réduction de dimensions. \n",
    "Il désigne ainsi toute méthode permettant de **projeter des données issues d’un espace de grande dimension dans un espace de plus petite dimension**.\n",
    "Quand on parle de la dimension d'une donnée, on parle du nombre de features qui lui sont attachées.\n",
    "Dans cette situation on peut voir la réduction de dimension comme une étape de compression de l'information contenue dans nos données.\n",
    "Si cette compression est bien faite, on va garder uniquement les informations importantes et retirer le bruit.\n",
    "\n",
    ":::{figure-md} reduc-dim-fig\n",
    "<img src=\"src/reduc_dim_exemple.png\" alt=\"Schema d'une reduction de dimension\">\n",
    "\n",
    "Schéma d'une réduction de dimension.\n",
    ":::\n",
    "\n",
    "On emploie ici le mot « dimension » au sens algébrique, i.e. la dimension de l’espace vectoriel sous-jacent aux valeurs des vecteurs de descripteurs.\n",
    "La réduction de dimensionnalité permet de réduire la complexité d’un problème d’apprentissage automatique à plusieurs niveaux :\n",
    "* D’un point de vue **théorique**, cela entraîne automatiquement une amélioration des propriétés de stabilité et de robustesse des algorithmes.\n",
    "* D’un point de vue **pratique**, cela simplifie la résolution du problème d’optimisation associé, en réduisant l’espace des solutions.\n",
    "\n",
    "En d’autres termes, réduire la dimensionnalité limite le nombre de possibilités à tester, ce qui permet de traiter les données plus rapidement.\n",
    "Ce gain de temps est fonction de la dépendance de la complexité temporelle de l’algorithme par rapport à la dimension."
   ]
  },
  {
   "cell_type": "markdown",
   "id": "d4ff1876-03ab-4cf5-a9ae-a7278b2a6db3",
   "metadata": {},
   "source": [
    "## Différents types d'entraînements\n",
    "L'approche ML pour résoudre un problème va dépendre de la tâche en question et des données disponibles.\n",
    "Ainsi, il est important de distinguer trois grandes familles d'algorithmes d'entraînement.\n",
    "\n",
    "### Apprentissage supervisé\n",
    "Avec l’apprentissage supervisé, **le modèle est entraîné à reproduire une sortie donnée**.\n",
    "Par exemple, il peut apprendre à distinguer les photos de chien et de chat après qu’on lui ait montré des milliers de photos des deux catégories et en précisant pour chaque image à quelle catégorie elle appartient.\n",
    "Ou bien, il peut apprendre à traduire le français en chinois après avoir vu des centaines de milliers d’exemples de traduction français-chinois. \n",
    "\n",
    "Concrètement, on a un dataset $\\mathcal{D} = (x_i, y_i)_1^N$ de $N$ couples où $x_i$ est un ensemble de `caractéristiques` (*features*) et $y$ l'`étiquette` (*label* ou *target*) correspondante.\n",
    "En reprenant l'exemple précédent, un $x_i$ pourrait être les pixels d'une image de chien et $y_i$ la catégorie chien.\n",
    "On entraîne alors un modèle $f$ tel que $f(x) \\approx y$.\n",
    "\n",
    ":::{figure-md} reduc-dim-fig\n",
    "<img src=\"src/supervise_exemple.png\" alt=\"Schema d'une classification chien vs chat\">\n",
    "\n",
    "Schéma d'une classification chien vs chat.\n",
    ":::\n",
    "\n",
    "Dans le cadre de l’apprentissage supervisé, la machine connaît déjà les réponses qu’on attend d’elle.\n",
    "Elle travaille à partir de données étiquetées.\n",
    "Reprenons l’exemple d’une application destinée à reconnaître les chiens et les chats.\n",
    "Pour l’entraîner, on lui présente des images étiquetés comme « chien » ou « chat ».\n",
    "Par des techniques issues des statistiques et des probabilités, l’algorithme comprend alors quelles sont les caractéristiques qui permettent de classer ces images dans chacune des catégories.\n",
    "Ainsi, au fur et à mesure qu’on lui présentera de nouvelles images, il pourra les identifier, en donnant un score de probabilité.\n",
    "\n",
    "Ce type d'apprentissage est particulièrement adapté pour résoudre les problèmes de classification et de régression.\n",
    "\n",
    "### Apprentissage non supervisé\n",
    "Qu’est-ce que l’apprentissage non supervisé ?\n",
    "C’est de l’apprentissage sans superviseur, tout simplement… 😊\n",
    "Plus sérieusement, l’apprentissage non supervisé consiste à **apprendre à un modèle des informations sans l'aide d'étiquette**, c’est-à-dire sans superviseur (d’où le nom, vous l’aurez compris).\n",
    "\n",
    "Ce genre d'algorithme utilise uniquement un dataset $\\mathcal{D} = (x_i)_1^N$ contenant un ensemble de $N$ données $x$.\n",
    "En fonction de la tâche à résoudre, un tel apprentissage aura pour but de projeter les $x_i$ dans un espace vectoriel de dimension plus faible ou bien à regrouper les $x_i$ qui se ressemblent entre eux.\n",
    "\n",
    "L'apprentissage non supervisé est particulièrement adapté pour résoudre les problèmes de clustering, d'association et de réduction de dimension.\n",
    "\n",
    "### Par renforcement\n",
    "Le Reinforcement Learning ou l’apprentissage par renforcement (RL) est la science de la prise de décision.\n",
    "Il s’agit **d’apprendre le comportement optimal dans un environnement donné** pour obtenir une récompense maximale.\n",
    "Ce comportement optimal s’acquiert par des interactions avec l’environnement et l’observation de ses réactions.\n",
    "\n",
    "Le problème du Reinforcement Learning implique qu’un agent explore un environnement inconnu pour atteindre un objectif.\n",
    "Le RL est basé sur l’hypothèse que tous les objectifs peuvent être décrits par la maximisation de la récompense cumulative attendue.\n",
    "L’agent doit apprendre à sentir et à perturber l’état de l’environnement en utilisant ses actions pour obtenir une récompense maximale.\n",
    "Un agent dans un état actuel S apprend de son environnement en interagissant avec ce dernier par le moyen d’actions.\n",
    "Suite à une action A, l’environnement retourne un nouvel état S’ et une récompense R associée, qui peut être positive ou négative.\n",
    "\n",
    "Il est utile lorsque l'on sait récompenser un bon comportement mais qu'on ne saurait dire quelles sont les actions optimales d'un problème (difficile ou impossible d'avoir des étiquettes comme en supervisé).\n",
    "Par exemple aux échecs on sait quand un agent a bien joué (a-t-il perdu ou gagné la partie ?).\n",
    "Cependant, on ne sait pas donner quel est le coup optimal à n'importe quelle situation du jeu.\n",
    "\n",
    "Le Reinforcement Learning a affiché des performances spectaculaires ces dernières années.\n",
    "Il a permis à des programmes d’apprendre par eux-mêmes dans des environnements complexe des stratégies extrêmement puissantes et robustes.\n",
    "Sous l’impulsion de DeepMind, ces algorithmes ont révolutionné l’intelligence artificielle dans de nombreux domaines, notamment dans le domaine des jeux, allant des jeux d’arcade (Agent57) et des jeux de plateau (AlphaGo) jusqu’aux jeux-vidéos (AlphaStar).\n",
    "\n",
    ":::{figure-md} reduc-dim-fig\n",
    "<img src=\"src/illustration_RL.png\" alt=\"Interaction entre l'agent RL et l'environnement.\">\n",
    "\n",
    "Illustration entre l'agent RL et l'environnement.\n",
    ":::\n",
    "\n",
    "Un cours est d'ailleurs entièrement dédié à ce vaste sujet."
   ]
  },
  {
   "cell_type": "markdown",
   "id": "f526886f-ccc0-49ff-8a77-445fc19efad4",
   "metadata": {},
   "source": [
    "## Conclusion\n",
    "\n",
    "* Le but du ML est de capturer l'information contenue dans une base de données.\n",
    "* L'information est synthétisée à travers un modèle étant une fonction des features des données.\n",
    "* Diverses tâches sont résolues à l'aide du ML, les principales étant la classification, la régression et le clustering.\n",
    "* Un modèle est produit à l'aide d'algorithmes d'entraînement.\n",
    "* Divers algorithmes d'entraînements existes, ils sont regroupés dans trois catégories : l'apprentissage supervisé, l'apprentissage non supervisé et l'apprentissage par renforcement."
   ]
  },
  {
   "cell_type": "markdown",
   "id": "fde8e20e-d51d-4343-a7d4-d5be18e3d7c3",
   "metadata": {},
   "source": [
    "## Sources\n",
    "* [Le chocolat ne rend pas plus intelligent, Chat Septique](https://www.youtube.com/watch?v=z_cACapt3Hc)\n",
    "* [Tout les modèles sont faux, certains sont utiles, Wikipedia](https://fr.abcdef.wiki/wiki/All_models_are_wrong)\n",
    "* [L'apprentissage supervisé en 4 étapes, Machine Learnia](https://machinelearnia.com/apprentissage-supervise-4-etapes/)\n",
    "* [Apprentissage supervisé vs non supervisé, ActuaIA](https://www.actuia.com/vulgarisation/difference-entre-apprentissage-supervise-apprentissage-non-supervise/)\n",
    "* [Réduction de dimensionnalité, Data Analytics Post](https://dataanalyticspost.com/Lexique/reduction-de-dimensionnalite/)\n",
    "* [Dataset d'images de chats et de chiens, Kaggle](https://www.kaggle.com/datasets/tongpython/cat-and-dog)\n",
    "* [Pour aller plus loin : apprentissage semi-supervisé, le monde informatique](https://www.lemondeinformatique.fr/les-dossiers/lire-l-apprentissage-semi-supervise-trouve-sa-place-1031.html)"
   ]
  },
  {
   "cell_type": "code",
   "execution_count": null,
   "id": "696570fe-5d55-40a7-a64c-bbbdfda590f6",
   "metadata": {},
   "outputs": [],
   "source": []
  },
  {
   "cell_type": "code",
   "execution_count": null,
   "id": "f37222bf-bc1c-47d0-b2b3-5f66ae08fdfc",
   "metadata": {},
   "outputs": [],
   "source": []
  }
 ],
 "metadata": {
  "kernelspec": {
   "display_name": "Python 3 (ipykernel)",
   "language": "python",
   "name": "python3"
  },
  "language_info": {
   "codemirror_mode": {
    "name": "ipython",
    "version": 3
   },
   "file_extension": ".py",
   "mimetype": "text/x-python",
   "name": "python",
   "nbconvert_exporter": "python",
   "pygments_lexer": "ipython3",
   "version": "3.10.7"
  }
 },
 "nbformat": 4,
 "nbformat_minor": 5
}
