{
 "cells": [
  {
   "cell_type": "markdown",
   "metadata": {
    "id": "rbTUCiuA7iv8"
   },
   "source": [
    "# Clustering\n",
    "\n",
    "Si vous vous rappelez bien du chapitre \"Eléments de définition\", il y a trois types principaux de Machine Learning; Supervisé, non supervisé et par renforcement. Jusqu'à maintenant nous n'avions que des cas d'apprentissage supervisé (nous avions les labels), il est donc temps de parler de l'apprentissage non-supervisé (nous n'avons pas les labels). \n",
    "\n",
    "Imaginons que nous avons des images de chiens et de chats qui ne sont pas étiquettées (\"Sans labels\" dans l'image). Une solution serait de payer des gens pour ajouter les labels, mais elle est couteuse en temps et en argent. Une autre est d'utiliser du clustering. Cette approche va essayer de créer des groupes (clusters) en utilisant les données (\"Avec labels\" dans l'image). \n",
    "\n",
    "![image](src/clustering_dataset.png)\n",
    "\n",
    "Une idée serait de partir du principe que les données de même classe (chiens et chats) sont proches dans l'espace définit par les pixels de l'image. Pour les regrouper, nous pourrions avoir deux points, un pour les chiens et un pour les chats. Nous classifierons l'image en fonction du point duquel elle est le plus proche. La question est donc: Comment trouver ces points? \n",
    "\n",
    "La réponse est simple, en utilsant Kmeans!\n",
    "\n",
    "## Kmeans\n",
    "\n",
    "L'algorithme se base sur ce qu'on appel des centroids, ce sont des points qui seront placé au milieu des clusters. Chaque échantillon fait partie de la catégorie dont le centroid est le plus proche. La procédure se passe en deux parties\n",
    "1. Attribution des échantillons aux clusters\n",
    "2. Mise à jour des centroids\n",
    "\n",
    "### En détail\n",
    "Afin de nous faciliter la tâche, nous allons introduire une matrice binaire $z$ qui est de taille $N\\times K$, $N$ détermine le nombre de points de données et $K$ le nombre de clusters que nous cherchons. De cette façon, l'entrée $z_{1,1}=0$ voudra dire que $x_1$ n'est pas dans le cluster 1, et $z_{1,2}=1$ représente l'appartenance du point $x_1$ au cluster 2. Nous avons donc la contrainte qu'il ne peut y avoir que une entrée qui vaut 1 et le reste doit être 0, mathématiquement, cela donne $\\sum_k z_{n,k} = 1$. \n",
    "<br> Maintenant que cela est clair, nous pouvons (enfin) décrire l'algorithme.\n",
    "\n",
    "Les centroids sont intialisé arbitrairement. Ensuite nous calculons la distance entre chaque point et les centroids. Admettons que pour le premier point, le second centroid est le plus proche alors son entrée $z_{0,1}$ (les indexs commencent à 0) devient 1. Une fois la matrice $z$ mise à jour, nous pouvons calculer les coordonnées de chaque centroid en prenant la moyenne des coordonnées des points qui lui sont attribués:\n",
    "\n",
    "$$\\mu_k = \\frac{\\sum_{n=1}^N z_{nk}\\textbf{x}_n}{\\sum_{n=1}^N z_{nk}}$$\n",
    "\n",
    "Ici, $z$ nous permet de suivre simplement les attributions et de mettre les coordonnées à jour. En effet, si $z_{n,k}=0$ alors il ne sera pas pris en compte dans la moyenne et si c'est 1 alors on le prends en compte. Une fois les centroids mis à jour, nous recomençons la phase d'assignation en calculant les distances.\n",
    "\n",
    "Le GIF qui suit permet de voir l'évolution de $z$ en regardant les couleurs des points ainsi que les centroids en bleu. \n",
    "\n",
    "![SegmentLocal](src/clustering_gif.gif \"segment\")\n",
    "\n",
    ">L'algorithme\n",
    ">1. On initialise les centroids $\\mu_n$. (Pour l'instant nous le faisons aléatoirement) \n",
    ">2. On attribue le cluster de chaque données $x_n$ au centroid le plus proche et remplissons la matrice $z$.<br> Comme avec Knn. nous pouvons prendre la mesure de distance qui nous convient le mieux. Dans notre cas nous utiliserons l'euclidienne. \n",
    ">3. On met les centroids à jour en calculant la moyenne des points présent dans le cluster :\n",
    "$\\mu_k = \\frac{\\sum_{n=1}^N z_{nk}\\textbf{x}_n}{\\sum_{n=1}^N z_{nk}}$\n",
    ">4. On retourne au point 2, jusqu'à ce que $z$ ne change plus.\n",
    "\n",
    "\n",
    "\n",
    "Ce problème peut-être décrit par une fonction de couts que nous voulons minimiser:\n",
    "\t\t\t\n",
    "$$\\min\\sum_n\\sum_k z_{n,k} (x_n-\\mu_k)^T(x_n-\\mu_k)$$\n",
    "$$\\textbf{s.t.: } z_{n,k}\\in \\{0,1\\} \\text{ et } \\sum_k z_{n,k} = 1 $$\n",
    "\n",
    "La partie du haut représente le but; minimizer la distance entre les centroids $\\mu_k$ et les données qui y sont liées. Ainsi, $z_{n,k}$ sera 1 si $x_n$ appartient au centroid $\\mu_k$ et la distance sera prise en compte. Si $z_{n,k}$ est 0, alors la distance ne sera pas prise en compte car $x_n$ appartient a un autre centroid. La partie du bas représente les contraintes, la première dit que les valeurs dans $z$ doivent être soit 0 soit 1. La deuxième dit que seulement un centroid peut être attribué à un point de donnée. \n",
    "\n",
    "Le but est de rendre la somme des distances la plus petite possible. Kmeans va converger à chaque fois mais vu que les centroids sont initilisés aléatoirement et que le problême n'est pas convex (une seule solution) chaque fois que nous lançons Kmeans nous aurons potentiellement une solution différente.\n",
    "\n",
    "### Soucis et Solutions\n",
    "Il y a deux problèmes majeurs, comment déterminer le nombre de clusters. Dans certains cas nous avons énorméments de données sans labels et il est impossible de déterminer le nombre de cluster présent. Le deuxième est l'initialisation des centroids. Vu que l'initilisation a un impact majeur sur la solution finale, il faut le faire de manière intelligent sans risquer de trop biaiser le résultat. \n",
    "\n",
    "#### Initlisation des centroids\n",
    "Il existe plusieurs approches plus ou moins efficaces comme l'initilisation aléatoire dans une certaine \"zone\", prendre $K$ points dans les données et utiliser leur position comme centroid. Dans les deux cas, nous avons potentiellement des centroids très proche l'un de l'autre, ce qui ralentit la convergence. L'approche la plus efficace (à ce jour) se nomme kmeans++ et est celle utilisée par la libraire Scikit-Learn. \n",
    "\n",
    "L'idée est assez simple, nous choisissons un point dans $X$ aléatoirement et utilisons ses coordonnées comme coordonnées pour $\\mu_1$. Ensuite nous trouvons le point le plus éloigné de $\\mu_1$ et l'utilisons pour déterminer $\\mu_2$. Puis, nous trouvons le points le plus éloigné de $\\mu_1$ et $\\mu_2$, etc. \n",
    "\n",
    "Cette approche nous donne une approximation $O(logK)$ de la réponse finale. \n",
    "\n",
    "#### Choix du nombre de cluster\n",
    "Il existe plusieurs approches, celle décrite ici est basé sur ce qu'on appele la variance intra-cluster. La variance d'un cluster est déterminé par la distance moyenne entre un centroid et les points qui y sont liée. On peut la calculer en utilisant cette formule:\n",
    "\n",
    "$$W_k:=\\frac{1}{|\\mu_k|}\\sum_{x\\in \\mu_k}(x-\\mu_k)^2$$\n",
    "\n",
    "$|\\mu_k|$ est le nombre de points liée au centroid $\\mu_k$, ce facteur nous permet de normaliser le résulat de façon à être entre 0 et 1. La somme calcule la distance total entre un centroid et les points qui sont liée à lui. \n",
    "\n",
    "La variance total $W$ est la somme de tous les $W_k$. \n",
    "\n",
    "Le but est de choisir le nombre de cluster $K$ qui minimise $W$.\n",
    "\n",
    "> Étant donnée que nous n'avons pas les labels, il n'est, la plupart du temps, pas possible d'évaluer un algorithm de clustering. Il faudra soit lui faire confiance ou regarder par soit même. De plus, on sait que Kmeans va toujours converger, il va donc toujours donner une infomation. Dans le cas des images de chien et de chat, il trouvera autant de cluster qu'il y a d'images si on le lui demande. Il faut donc être prudent lors de l'utilisation de l'algorithm. \n",
    "\n",
    "## Limites\n",
    "Bien que puissant et pratique, Kmeans n'est pas parfait.\n",
    "\n",
    "### Affectation stricte\n",
    "Kmeans fait de **l'affectation souple**, c'est à dire qu'il détermine si un point appartient ou pas dans une certaine catégorie. Ceci peut-être problématique dans le cas où un point est a équidistance entre deux centroids. La façon dont on règle ce problème peut avoir une réel importance sur la performance du modèle. Imaginons, que nous voulons déterminer deux catégories de maladies dont l'une est bénine et l'autre mortel. Le choix de classifier un point comme bénin ou mortel ne peut pas se faire aléatoirement. \n",
    "\n",
    "Dans ce cas nous préfèrerons utiliser de **l'affectation souple**. Cette approche donne une probabilité qu'un point appartient à une catégorie, ce qui nous permet de faire une meilleure analyse et interprétation du modèle. Si on reprend l'exemple d'au dessus, si un point a une probabilité de 49% de posséder la maladie mortel et 51% de posséder la maladie bénine, on pourrait préfèrer classifier le patient comme portant la maladie mortel afin de réduire le risque de faux négatifs. \n",
    "\n",
    "Le modèle de base et le plus utilisé est le Gaussian Mixture Model. Ce modèle part de l'hypothèse que les données sont généré par des distributions normales. Il va donc essayer de trouver le variance et la moyenne de ces distributions, ce qui permet de déterminer la probabilité qu'une point appartient à une catégorie. \n",
    "\n",
    "### Malédiction de la dimensionnalité\n",
    "Comme nous l'avosn vu dans le chapitre précédent, les modèles basé sur le calcul de distance souffrent de la maladie de la dimenstionalité. Ainsi, Kmeans ne fonctionnera pas ou moins bien quand on utilise beaucoup de données. Il est relativement facile de faire une analyse statistiques des données quand nous avons les labels et de filtrer les attributs. Malheureusment, ce n'est pas possible quand on utilise Kmeans. Nous n'avons pas de labels donc nous ne pouvons pas obtenir l'utilité de chaque attribut. \n",
    "\n",
    "La solution est d'utiliser des algorithmes qui ne sont pas autant atteint. Une méthode relativement simple est l'algorithm ClustVarSel. Cependant, nous devons introduire la notions de BIC avant de décrire l'algorithm. Le BIC est un critère qui évalue la complexité du modèle en prenant le résulat du modèle en compte. La complexité du modèle est définie comme le nombre de paramètres à évaluer. ClustVarSel est basé sur des Gaussian Mixture Model et nous devons évaluer $c_k$ paramètres. $c_k$ est calculé en suivant le formule qui suit:\n",
    "\n",
    "$$c_k=K\\times D+(K-1)+K\\times D \\times (D+1)/2$$\n",
    "    \n",
    "$K$ est le nombre de clusters et $D$ le nombre de dimensions des données. \n",
    "\n",
    "Sans entréer dans les détails, chaque Gaussien requiert:\n",
    "1. Une matrice de covariance nécessitant $D \\times (D+1)/2$ éléments\n",
    "2. Un vecteur de moyenne de $D$ éléments\n",
    "3. Un \"mixing weight\"\n",
    "\n",
    "Le point 1 explique $K\\times D \\times (D+1)/2$, ensuite nous avons besoin de $K$ vecteurs de $D$ éléments et $K$ mixing weights, ce qui explique $K\\times D+(K-1)$. Nous avons utilisé une astuce pour les mixing weights, vu que la somme de ces poids est de 1, nous pouvons calculer $K-1$ poids et le dernier est 1 moins la somme des poids. La partie importante pour ClustVarSel est que plus nous ajoutons de features ($D$), plus le complexité augumente.\n",
    "\n",
    "Le BIC est calculé par l'equation qui suit:\n",
    "\n",
    "$$BIC_K=-ln p(X|.)-\\frac{1}{2}c_K ln N$$\n",
    "\n",
    "$p(x|.)$ est la probabilité qu'un point appartienne à un clusters.\n",
    "\n",
    "Nous avons donc un moyen d'évaluer la qualité d'un modèle en prenant en compte le qualité de la prédiction et la complexité du modèle. Le but de ClustVarSel est de selectionner les attributs qui minimisent le BIC. Il existe deux versions, soit on utilise tous les attributs et on en enlèves, ou on commence avec aucun attribut et on les ajoutes.\n",
    "\n",
    "Dans le cas où on commence avec aucun attribut, ClustVarSel fonctionne en deux étapes:\n",
    "> 1. Ajout éventuel d'un attribut\n",
    "> 2. Suppression éventuel d'un attribut\n",
    "\n",
    "\n",
    "Dans la première étape, nous entrainons un modèle pour chaque attributs qui n'a pas encore été sélectionné en l'ajoutant à la liste des attributs selectionné. Le modèle est évalué et nous gardons l'attribut qui a le BIC minimum. Dans certains cas, ajouter un attribut ne change pas ou augumente le BIC, dans ce cas, nous n'ajoutons pas d'attributs. \n",
    "\n",
    "Ensuite, si nous avons plus de 1 attribut, nous entrainons un modèle pour chaque attribut sauf que cette fois nous retirons un attributs. Si le BIC est meilleur en retirant un attribut, nous le retirons. \n",
    "\n",
    "Donc si nous avons selectionné $n$ attributs et qu'il nous en reste $i$. La phase d'ajout requière $n+i$ entrainements avec chaque $n+1$ éléments. La phase de suppressions requiert $n$ entrainements avec $n-1$ éléments. \n",
    "\n",
    "Cette approche nous permet de faire de la sélection d'attributs. Malheureusement elle requiert une certaine puissance de calculs et nécessite d'être lançé plusieurs fois afin de stabiliser la selection. De plus, cette méthode souffre du même problème que Kmeans, elle va toujours trouver un résulats, peut-importe le nombre de clusters. Si nous ne savons pas combien de cluster nous avons, nous devons lancer le modèle plusieurs fois pour chaque nombre de clusters. \n",
    "\n",
    "## À retenir\n",
    "\n",
    "- Un algorithm de clustering nous donnera toujours une solution, même si ce n'est pas la bonne.\n",
    "- Le choix de l'initialisation des centroids et du nombre de cluster est primordial.\n",
    "- Il n'y a aucun moyen de tester l'algorithm, nous devons donc nous fier aux scores tels que la variance intra-cluster ou le BIC\n",
    "- Le clustering dépend de l'initialisation qui est stochastique, il est courant de faire tourner l'algorithm plusieurs fois afin de stabiliser le résultat.\n",
    "\n",
    "## Implémentation\n",
    "L'implémentation se fera en plusieurs parties. Nous allons d'abord implémenter le modèle et le tester. Ensuite nous implémenterons l'intra cluster variance afin de déterminer le nombre de clusters à utiliser. \n"
   ]
  },
  {
   "cell_type": "code",
   "execution_count": 1,
   "metadata": {},
   "outputs": [],
   "source": [
    "# L'implémentation requiert seulement numpy. plotly est utilisé pour les graphiques. \n",
    "import numpy as np\n",
    "import plotly.express as px\n",
    "import plotly.graph_objects as go"
   ]
  },
  {
   "cell_type": "markdown",
   "metadata": {},
   "source": [
    "Une fois numpy importé, nous devons générer les données. L'hypothèse pour utiliser Kmeans est que les données d'une même catégorie sont proches dans un espace cartésien. Nous devons donc générer nos données en suivant cette hypothèse. Pour ce faire, nous allons utiliser une distribution normal avec une variance de 0.55. La moyenne pour la catégorie 0 est de 0 et de 1 pour les 1. Nous pouvons déterminer le nombre de données que nous voulons. "
   ]
  },
  {
   "cell_type": "code",
   "execution_count": 2,
   "metadata": {},
   "outputs": [],
   "source": [
    "elements = 50\n",
    "random_state = 42\n",
    "K = 5\n",
    "\n",
    "def generate_data(elements, random_state):\n",
    "    rng=np.random.RandomState(random_state)\n",
    "\n",
    "    classes_x = rng.normal(0, 0.6, (2,elements))\n",
    "    classes_y = rng.normal(1, 0.6, (2,elements))\n",
    "    labels = np.concatenate((np.zeros(elements), np.ones(elements)))\n",
    "    dset = np.zeros((2,elements*2))\n",
    "\n",
    "    dset[0] = np.concatenate((classes_x[0], classes_y[0]))\n",
    "    dset[1] = np.concatenate((classes_x[1], classes_y[1]))\n",
    "\n",
    "    return dset, labels"
   ]
  },
  {
   "cell_type": "markdown",
   "metadata": {},
   "source": [
    "Pour l'implémentation, nous allons suivre le même pattern que lors de l'implémentation de KNN. Vu que les deux algorothmes dépendent de la distance, leurs implémentation est relativement similaire. \n",
    "Afin de simplifier le code, les centroids correspondent à des points choisit au hasard. "
   ]
  },
  {
   "cell_type": "code",
   "execution_count": 62,
   "metadata": {
    "colab": {
     "base_uri": "https://localhost:8080/",
     "height": 812
    },
    "id": "P6wYcH6n7Uid",
    "outputId": "11605812-3ddd-4dbe-a17d-8168175385bd"
   },
   "outputs": [],
   "source": [
    "class Kmeans:\n",
    "    def __init__(self, K):\n",
    "        self.K = K\n",
    "        self.centroids = None\n",
    "\n",
    "    # Fonction utilisé pour entrainer le modèle\n",
    "    def fit(self, data):\n",
    "        # Point 1: Initilisation des centroids\n",
    "        self.centroids = data[np.random.choice(len(data), self.K, replace=False)] #np.random.uniform(np.min(data), np.max(data), size=(self.K, len(data[0])))\n",
    "        \n",
    "        prev_z = None\n",
    "        curr_z = None\n",
    "      \n",
    "        while type(prev_z) == type(None) or (prev_z != curr_z).any():\n",
    "            prev_z = curr_z\n",
    "            curr_z = np.zeros((len(data), self.K))\n",
    "            \n",
    "            # Point 2: On calcule les distances et on remplit z\n",
    "            for ind_point, dpoint in enumerate(data):\n",
    "                dist = np.zeros(self.K)\n",
    "\n",
    "                for ind_centr, centroid in enumerate(self.centroids):\n",
    "                    dist[ind_centr] = self.distance(dpoint, centroid)                \n",
    "                curr_z[ind_point][np.argmin(dist)] = 1\n",
    "            \n",
    "            # Point 3: Mise à jour des centroids\n",
    "            for ind_centr, centroid in enumerate(self.centroids): \n",
    "                new_centr = np.zeros(len(centroid))\n",
    "\n",
    "                for dim in range(len(centroid)):\n",
    "                    new_centr[dim] = np.dot(curr_z[:, ind_centr],data[:,dim])/sum(curr_z[:, ind_centr])\n",
    "\n",
    "                self.centroids[ind_centr] = new_centr\n",
    "                            \n",
    "    # Fonction appelé pour prédire        \n",
    "    def predict(self, data_point, get_dist=False):\n",
    "        preds = []\n",
    "        dists = []\n",
    "        \n",
    "        for dp in data_point:\n",
    "            distances = []\n",
    "\n",
    "            for point in self.centroids:\n",
    "                distances.append(self.distance(dp, point))\n",
    "            \n",
    "            preds.append(np.argmin(distances))\n",
    "            dists.append(np.min(distances))\n",
    "        \n",
    "        if get_dist:\n",
    "            return np.array(preds), np.array(dists)\n",
    "        else:\n",
    "            return np.array(preds)\n",
    "    \n",
    "    # Calcul de la distance\n",
    "    def distance(self, x_new, x):\n",
    "        return np.dot(x_new-x, x_new-x)"
   ]
  },
  {
   "cell_type": "markdown",
   "metadata": {},
   "source": [
    "Maintenant que le modèle est implémenté, nous pouvons l'essayer."
   ]
  },
  {
   "cell_type": "code",
   "execution_count": 48,
   "metadata": {},
   "outputs": [
    {
     "data": {
      "text/html": [
       "<iframe\n",
       "    scrolling=\"no\"\n",
       "    width=\"100%\"\n",
       "    height=\"545px\"\n",
       "    src=\"iframe_figures/figure_48.html\"\n",
       "    frameborder=\"0\"\n",
       "    allowfullscreen\n",
       "></iframe>\n"
      ]
     },
     "metadata": {},
     "output_type": "display_data"
    }
   ],
   "source": [
    "data, label = generate_data(elements, random_state)\n",
    "\n",
    "data[0,:] = (data[0,:]-min(data[0,:]))/(max(data[0,:])-min(data[0,:]))\n",
    "data[1,:] = (data[1,:]-min(data[1,:]))/(max(data[1,:])-min(data[1,:]))\n",
    "\n",
    "kmeans = Kmeans(2)\n",
    "\n",
    "kmeans.fit(data.T)\n",
    "\n",
    "'''\n",
    "-- Plot --\n",
    "'''\n",
    "\n",
    "fig0 = px.scatter(x=data[0,:], y=data[1,:], color=kmeans.predict(data.T).astype(str), color_discrete_sequence=[\"rgb(2,48,71)\", \"rgb(255,158,2)\"])\n",
    "fig1 = px.scatter(x=kmeans.centroids.T[0,:], y=kmeans.centroids.T[1,:], color=[\"Centroid 0\",\"Centroid 1\"], symbol_sequence=[\"square\"], color_discrete_sequence=[\"rgb(2,48,71)\", \"rgb(255,158,2)\"])\n",
    "\n",
    "fig1.update_traces(marker=dict(size=10,\n",
    "                              line=dict(width=2,\n",
    "                                        color='DarkSlateGrey')),\n",
    "                  selector=dict(mode='markers'))\n",
    "\n",
    "fig2 = go.Figure(data=fig0.data + fig1.data)\n",
    "fig2.show('iframe')"
   ]
  },
  {
   "cell_type": "markdown",
   "metadata": {},
   "source": [
    "Nous pouvons voir que les centroids semblent être bien placé, qu'en est t'il de la réalité?\n",
    "Nous allons tricher un peu, nous avons les labels donc nous savons quels points sont ensemble et ceux qui ne le sont pas. De plus nous savons que les 50 premiers points et les 50 derniers points forment un groupe. Il nous suffit de faire la somme des deux groupes, dans le meilleur des cas nous aurons un groupe qui est 50 (tous des 1) et l'autre 0 (tous des 0)."
   ]
  },
  {
   "cell_type": "code",
   "execution_count": 6,
   "metadata": {},
   "outputs": [
    {
     "name": "stdout",
     "output_type": "stream",
     "text": [
      "0 -> Group1: 47 Group2: 6\n",
      "1 -> Group1: 3 Group2: 44\n",
      "2 -> Group1: 47 Group2: 6\n",
      "3 -> Group1: 3 Group2: 44\n",
      "4 -> Group1: 3 Group2: 44\n",
      "5 -> Group1: 47 Group2: 6\n",
      "6 -> Group1: 3 Group2: 40\n",
      "7 -> Group1: 3 Group2: 44\n",
      "8 -> Group1: 47 Group2: 10\n",
      "9 -> Group1: 47 Group2: 10\n"
     ]
    }
   ],
   "source": [
    "for i in range(10):\n",
    "    tmp_model = Kmeans(2)\n",
    "    tmp_model.fit(data.T)\n",
    "    predictions, distance = tmp_model.predict(data.T, True)\n",
    "    print(f\"{i} -> Group1: {np.sum(predictions[:50])} Group2: {np.sum(predictions[50:])}\")"
   ]
  },
  {
   "cell_type": "markdown",
   "metadata": {},
   "source": [
    "Nous pouvons voir que les clusters ne sont pas les mêmes à chaque essai alors que les données restent inchangé. Aussi, vous pouvez voir que les clusters ont des tailles différentes. Maintenant, essayons avec des nombre de clusters différents."
   ]
  },
  {
   "cell_type": "code",
   "execution_count": 64,
   "metadata": {},
   "outputs": [
    {
     "name": "stdout",
     "output_type": "stream",
     "text": [
      "0.04014452027298274\n",
      "0.09255510571300045\n",
      "0.20480480480480479\n",
      "0.25806595365418894\n"
     ]
    }
   ],
   "source": [
    "for k in [2,3,4,5]:\n",
    "    tmp_model = Kmeans(k)\n",
    "    tmp_model.fit(data.T)\n",
    "    predictions, distance = tmp_model.predict(data.T, True)\n",
    "   \n",
    "    total = 0\n",
    "    len_groups = np.bincount(predictions)\n",
    "\n",
    "    for i in range(k):\n",
    "        total += 1/len_groups[i]+np.sum(distance[predictions == k])\n",
    "\n",
    "    print(total)"
   ]
  },
  {
   "cell_type": "markdown",
   "metadata": {},
   "source": [
    "Nous pouvons voir qu'utiliser deux clusters donne la plus petite variance intra-cluster. Cependant nous pouvons voir qu'utiliser 3 clusters donne une variance basse aussi.  \n",
    "\n",
    "Et voilà, maintenant tu sais implémenter et utiliser Kmeans ainsi qu'évaluer sa performance grâce au intra-cluster variance. Tu connais aussi ses problèmes et les possibles solutions.\n",
    "\n",
    "### Sources \n",
    "* Le cours \"Statistical Learning for Big Data\" (MVE441) de Chalmers University of Technology. \n",
    "* [La page WBICBICikipédia du BIC](https://fr.wikipedia.org/wiki/Crit%C3%A8re_d%27information_bay%C3%A9sien) \n",
    "* Pour ClustVarSel: Maugis, C., Celeux, G., Martin-Magniette M. (2009) Variable Selection for Clustering With Gaussian Mixture Models. Biometrics, 65(3), 701-709."
   ]
  },
  {
   "cell_type": "code",
   "execution_count": null,
   "metadata": {},
   "outputs": [],
   "source": []
  }
 ],
 "metadata": {
  "colab": {
   "collapsed_sections": [],
   "name": "cluster_cours.ipynb",
   "provenance": []
  },
  "kernelspec": {
   "display_name": "Python 3 (ipykernel)",
   "language": "python",
   "name": "python3"
  },
  "language_info": {
   "codemirror_mode": {
    "name": "ipython",
    "version": 3
   },
   "file_extension": ".py",
   "mimetype": "text/x-python",
   "name": "python",
   "nbconvert_exporter": "python",
   "pygments_lexer": "ipython3",
   "version": "3.10.7"
  }
 },
 "nbformat": 4,
 "nbformat_minor": 4
}
